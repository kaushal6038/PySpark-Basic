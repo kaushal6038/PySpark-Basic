{
 "cells": [
  {
   "cell_type": "code",
   "execution_count": 1,
   "metadata": {},
   "outputs": [],
   "source": [
    "import pyspark\n",
    "from pyspark import *\n",
    "from pyspark.sql import *\n",
    "from pyspark.sql.types import *\n",
    "from pyspark.sql.functions import *\n",
    "# from pyspark.sql.functions import isnan, when, count, col  # To count Null values\n",
    "from pyspark.mllib.linalg import Vectors\n",
    "from pyspark.mllib.stat import Statistics"
   ]
  },
  {
   "cell_type": "code",
   "execution_count": 2,
   "metadata": {},
   "outputs": [],
   "source": [
    "df = sqlContext.read.format(\"com.databricks.spark.csv\").option(\"header\", \"true\").option(\"inferSchema\", \"true\").option(\"delimiter\", \";\").load(\"household_power_consumption.txt\")\n",
    "\n",
    "# OR all null values drop at begining\n",
    "\n",
    "# df1=spark.read.format(\"csv\").option(\"header\", \"true\").option(\"inferSchema\", \"true\").option(\"nullvalue\",'NA').option(\"delimiter\", \";\").load(\"household_power_consumption.txt\")"
   ]
  },
  {
   "cell_type": "code",
   "execution_count": 3,
   "metadata": {},
   "outputs": [],
   "source": [
    "# Changing Dtypes Manually of dataframe\n",
    "df=df.withColumn(\"Date\",df.Date.cast(\"timestamp\"))\n",
    "df=df.withColumn(\"Time\",df.Time.cast(\"timestamp\"))\n",
    "df=df.withColumn(\"Global_active_power\",df.Global_active_power.cast(\"Double\"))\n",
    "df=df.withColumn(\"Global_reactive_power\",df.Global_reactive_power.cast(\"Double\"))\n",
    "df=df.withColumn(\"Voltage\",df.Voltage.cast(\"Double\"))\n",
    "df=df.withColumn(\"Global_intensity\",df.Global_intensity.cast(\"Double\"))\n",
    "df=df.withColumn(\"Sub_metering_1\",df.Sub_metering_1.cast(\"Double\"))\n",
    "df=df.withColumn(\"Sub_metering_2\",df.Sub_metering_2.cast(\"Double\"))"
   ]
  },
  {
   "cell_type": "code",
   "execution_count": 4,
   "metadata": {},
   "outputs": [],
   "source": [
    "# Dropping a Column full of null values\n",
    "df=df.drop(\"Date\")"
   ]
  },
  {
   "cell_type": "code",
   "execution_count": 5,
   "metadata": {},
   "outputs": [],
   "source": [
    "# Splitting Date and time from Time column \n",
    "split_col = pyspark.sql.functions.split(df['Time'], ' ')\n",
    "df = df.withColumn('Date', split_col.getItem(0))\n",
    "df = df.withColumn('Time', split_col.getItem(1))"
   ]
  },
  {
   "cell_type": "code",
   "execution_count": 6,
   "metadata": {},
   "outputs": [],
   "source": [
    "# Checking Null values in our Dataframe\n",
    "a=df.select([count(when(col(c).isNull(), c)).alias(c) for c in df.columns])"
   ]
  },
  {
   "cell_type": "code",
   "execution_count": 7,
   "metadata": {
    "collapsed": true
   },
   "outputs": [
    {
     "name": "stdout",
     "output_type": "stream",
     "text": [
      "+----+-------------------+---------------------+-------+----------------+--------------+--------------+--------------+----+\n",
      "|Time|Global_active_power|Global_reactive_power|Voltage|Global_intensity|Sub_metering_1|Sub_metering_2|Sub_metering_3|Date|\n",
      "+----+-------------------+---------------------+-------+----------------+--------------+--------------+--------------+----+\n",
      "|   0|              25979|                25979|  25979|           25979|         25979|         25979|         25979|   0|\n",
      "+----+-------------------+---------------------+-------+----------------+--------------+--------------+--------------+----+\n",
      "\n"
     ]
    }
   ],
   "source": [
    "# printing number of missing values\n",
    "a.show()"
   ]
  },
  {
   "cell_type": "code",
   "execution_count": 8,
   "metadata": {},
   "outputs": [],
   "source": [
    "# filtering out not null values respect to column ( Removing null values by removing rows contain null)\n",
    "df=df.filter(df.Global_active_power.isNotNull())\n",
    "df=df.filter(df.Sub_metering_3.isNotNull())"
   ]
  },
  {
   "cell_type": "code",
   "execution_count": 9,
   "metadata": {
    "collapsed": true
   },
   "outputs": [
    {
     "name": "stdout",
     "output_type": "stream",
     "text": [
      "+--------+-------------------+---------------------+-------+----------------+--------------+--------------+--------------+----------+\n",
      "|    Time|Global_active_power|Global_reactive_power|Voltage|Global_intensity|Sub_metering_1|Sub_metering_2|Sub_metering_3|      Date|\n",
      "+--------+-------------------+---------------------+-------+----------------+--------------+--------------+--------------+----------+\n",
      "|17:24:00|              4.216|                0.418| 234.84|            18.4|           0.0|           1.0|          17.0|2019-02-22|\n",
      "|17:25:00|               5.36|                0.436| 233.63|            23.0|           0.0|           1.0|          16.0|2019-02-22|\n",
      "|17:26:00|              5.374|                0.498| 233.29|            23.0|           0.0|           2.0|          17.0|2019-02-22|\n",
      "|17:27:00|              5.388|                0.502| 233.74|            23.0|           0.0|           1.0|          17.0|2019-02-22|\n",
      "|17:28:00|              3.666|                0.528| 235.68|            15.8|           0.0|           1.0|          17.0|2019-02-22|\n",
      "|17:29:00|               3.52|                0.522| 235.02|            15.0|           0.0|           2.0|          17.0|2019-02-22|\n",
      "|17:30:00|              3.702|                 0.52| 235.09|            15.8|           0.0|           1.0|          17.0|2019-02-22|\n",
      "|17:31:00|                3.7|                 0.52| 235.22|            15.8|           0.0|           1.0|          17.0|2019-02-22|\n",
      "|17:32:00|              3.668|                 0.51| 233.99|            15.8|           0.0|           1.0|          17.0|2019-02-22|\n",
      "|17:33:00|              3.662|                 0.51| 233.86|            15.8|           0.0|           2.0|          16.0|2019-02-22|\n",
      "|17:34:00|              4.448|                0.498| 232.86|            19.6|           0.0|           1.0|          17.0|2019-02-22|\n",
      "|17:35:00|              5.412|                 0.47| 232.78|            23.2|           0.0|           1.0|          17.0|2019-02-22|\n",
      "|17:36:00|              5.224|                0.478| 232.99|            22.4|           0.0|           1.0|          16.0|2019-02-22|\n",
      "|17:37:00|              5.268|                0.398| 232.91|            22.6|           0.0|           2.0|          17.0|2019-02-22|\n",
      "|17:38:00|              4.054|                0.422| 235.24|            17.6|           0.0|           1.0|          17.0|2019-02-22|\n",
      "|17:39:00|              3.384|                0.282| 237.14|            14.2|           0.0|           0.0|          17.0|2019-02-22|\n",
      "|17:40:00|               3.27|                0.152| 236.73|            13.8|           0.0|           0.0|          17.0|2019-02-22|\n",
      "|17:41:00|               3.43|                0.156| 237.06|            14.4|           0.0|           0.0|          17.0|2019-02-22|\n",
      "|17:42:00|              3.266|                  0.0| 237.13|            13.8|           0.0|           0.0|          18.0|2019-02-22|\n",
      "|17:43:00|              3.728|                  0.0| 235.84|            16.4|           0.0|           0.0|          17.0|2019-02-22|\n",
      "+--------+-------------------+---------------------+-------+----------------+--------------+--------------+--------------+----------+\n",
      "only showing top 20 rows\n",
      "\n"
     ]
    }
   ],
   "source": [
    "df.show()"
   ]
  },
  {
   "cell_type": "code",
   "execution_count": 10,
   "metadata": {
    "collapsed": true
   },
   "outputs": [
    {
     "data": {
      "text/plain": [
       "['Time',\n",
       " 'Global_active_power',\n",
       " 'Global_reactive_power',\n",
       " 'Voltage',\n",
       " 'Global_intensity',\n",
       " 'Sub_metering_1',\n",
       " 'Sub_metering_2',\n",
       " 'Sub_metering_3',\n",
       " 'Date']"
      ]
     },
     "execution_count": 10,
     "metadata": {},
     "output_type": "execute_result"
    }
   ],
   "source": [
    "df.columns"
   ]
  },
  {
   "cell_type": "code",
   "execution_count": 11,
   "metadata": {},
   "outputs": [],
   "source": [
    "# Importing library for machine learning\n",
    "from pyspark.ml.regression import LinearRegression\n",
    "from pyspark.ml.feature import VectorAssembler\n",
    "from pyspark.ml.feature import StandardScaler\n",
    "from pyspark.ml import Pipeline\n",
    "from pyspark.sql.functions import *"
   ]
  },
  {
   "cell_type": "code",
   "execution_count": 19,
   "metadata": {},
   "outputs": [],
   "source": [
    "columns=['Global_reactive_power','Voltage','Global_intensity','Sub_metering_1','Sub_metering_2','Sub_metering_3']"
   ]
  },
  {
   "cell_type": "code",
   "execution_count": 13,
   "metadata": {
    "collapsed": true
   },
   "outputs": [
    {
     "name": "stdout",
     "output_type": "stream",
     "text": [
      "Global_reactive_power is correlated : 0.24701705264406495\n",
      "Voltage is correlated : -0.39976160962884133\n",
      "Global_intensity is correlated : 0.9988886002095948\n",
      "Sub_metering_1 is correlated : 0.48440127517742076\n",
      "Sub_metering_2 is correlated : 0.4345687175985004\n",
      "Sub_metering_3 is correlated : 0.6385554235386937\n"
     ]
    }
   ],
   "source": [
    "# finding Correlation with global_active_power\n",
    "for i in columns:\n",
    "    e=df.corr(\"Global_active_power\",i)\n",
    "    print(i +\" is correlated : %s\" %e)"
   ]
  },
  {
   "cell_type": "code",
   "execution_count": 14,
   "metadata": {
    "collapsed": true
   },
   "outputs": [
    {
     "data": {
      "text/html": [
       "<div>\n",
       "<style scoped>\n",
       "    .dataframe tbody tr th:only-of-type {\n",
       "        vertical-align: middle;\n",
       "    }\n",
       "\n",
       "    .dataframe tbody tr th {\n",
       "        vertical-align: top;\n",
       "    }\n",
       "\n",
       "    .dataframe thead th {\n",
       "        text-align: right;\n",
       "    }\n",
       "</style>\n",
       "<table border=\"1\" class=\"dataframe\">\n",
       "  <thead>\n",
       "    <tr style=\"text-align: right;\">\n",
       "      <th></th>\n",
       "      <th>0</th>\n",
       "      <th>1</th>\n",
       "      <th>2</th>\n",
       "      <th>3</th>\n",
       "      <th>4</th>\n",
       "    </tr>\n",
       "  </thead>\n",
       "  <tbody>\n",
       "    <tr>\n",
       "      <th>summary</th>\n",
       "      <td>count</td>\n",
       "      <td>mean</td>\n",
       "      <td>stddev</td>\n",
       "      <td>min</td>\n",
       "      <td>max</td>\n",
       "    </tr>\n",
       "    <tr>\n",
       "      <th>Time</th>\n",
       "      <td>2049280</td>\n",
       "      <td>None</td>\n",
       "      <td>None</td>\n",
       "      <td>00:00:00</td>\n",
       "      <td>23:59:00</td>\n",
       "    </tr>\n",
       "    <tr>\n",
       "      <th>Global_active_power</th>\n",
       "      <td>2049280</td>\n",
       "      <td>1.0916150365005453</td>\n",
       "      <td>1.0572941610939872</td>\n",
       "      <td>0.076</td>\n",
       "      <td>11.122</td>\n",
       "    </tr>\n",
       "    <tr>\n",
       "      <th>Global_reactive_power</th>\n",
       "      <td>2049280</td>\n",
       "      <td>0.12371447630388106</td>\n",
       "      <td>0.11272197955071599</td>\n",
       "      <td>0.0</td>\n",
       "      <td>1.39</td>\n",
       "    </tr>\n",
       "    <tr>\n",
       "      <th>Voltage</th>\n",
       "      <td>2049280</td>\n",
       "      <td>240.8398579745112</td>\n",
       "      <td>3.239986679010419</td>\n",
       "      <td>223.2</td>\n",
       "      <td>254.15</td>\n",
       "    </tr>\n",
       "    <tr>\n",
       "      <th>Global_intensity</th>\n",
       "      <td>2049280</td>\n",
       "      <td>4.627759310588589</td>\n",
       "      <td>4.44439625978614</td>\n",
       "      <td>0.2</td>\n",
       "      <td>48.4</td>\n",
       "    </tr>\n",
       "    <tr>\n",
       "      <th>Sub_metering_1</th>\n",
       "      <td>2049280</td>\n",
       "      <td>1.1219233096502186</td>\n",
       "      <td>6.153031089701279</td>\n",
       "      <td>0.0</td>\n",
       "      <td>88.0</td>\n",
       "    </tr>\n",
       "    <tr>\n",
       "      <th>Sub_metering_2</th>\n",
       "      <td>2049280</td>\n",
       "      <td>1.2985199679887571</td>\n",
       "      <td>5.822026473177491</td>\n",
       "      <td>0.0</td>\n",
       "      <td>80.0</td>\n",
       "    </tr>\n",
       "    <tr>\n",
       "      <th>Sub_metering_3</th>\n",
       "      <td>2049280</td>\n",
       "      <td>6.45844735712055</td>\n",
       "      <td>8.437153908665486</td>\n",
       "      <td>0.0</td>\n",
       "      <td>31.0</td>\n",
       "    </tr>\n",
       "    <tr>\n",
       "      <th>Date</th>\n",
       "      <td>2049280</td>\n",
       "      <td>None</td>\n",
       "      <td>None</td>\n",
       "      <td>2019-02-22</td>\n",
       "      <td>2019-02-22</td>\n",
       "    </tr>\n",
       "  </tbody>\n",
       "</table>\n",
       "</div>"
      ],
      "text/plain": [
       "                             0                    1                    2  \\\n",
       "summary                  count                 mean               stddev   \n",
       "Time                   2049280                 None                 None   \n",
       "Global_active_power    2049280   1.0916150365005453   1.0572941610939872   \n",
       "Global_reactive_power  2049280  0.12371447630388106  0.11272197955071599   \n",
       "Voltage                2049280    240.8398579745112    3.239986679010419   \n",
       "Global_intensity       2049280    4.627759310588589     4.44439625978614   \n",
       "Sub_metering_1         2049280   1.1219233096502186    6.153031089701279   \n",
       "Sub_metering_2         2049280   1.2985199679887571    5.822026473177491   \n",
       "Sub_metering_3         2049280     6.45844735712055    8.437153908665486   \n",
       "Date                   2049280                 None                 None   \n",
       "\n",
       "                                3           4  \n",
       "summary                       min         max  \n",
       "Time                     00:00:00    23:59:00  \n",
       "Global_active_power         0.076      11.122  \n",
       "Global_reactive_power         0.0        1.39  \n",
       "Voltage                     223.2      254.15  \n",
       "Global_intensity              0.2        48.4  \n",
       "Sub_metering_1                0.0        88.0  \n",
       "Sub_metering_2                0.0        80.0  \n",
       "Sub_metering_3                0.0        31.0  \n",
       "Date                   2019-02-22  2019-02-22  "
      ]
     },
     "execution_count": 14,
     "metadata": {},
     "output_type": "execute_result"
    }
   ],
   "source": [
    "df.describe().toPandas().transpose()"
   ]
  },
  {
   "cell_type": "code",
   "execution_count": 15,
   "metadata": {},
   "outputs": [],
   "source": [
    "from pyspark.ml.feature import VectorAssembler"
   ]
  },
  {
   "cell_type": "code",
   "execution_count": 16,
   "metadata": {},
   "outputs": [],
   "source": [
    "vectorAssembler = VectorAssembler(inputCols = columns, outputCol = 'features')"
   ]
  },
  {
   "cell_type": "code",
   "execution_count": 17,
   "metadata": {},
   "outputs": [],
   "source": [
    "v_df = vectorAssembler.transform(df)"
   ]
  },
  {
   "cell_type": "code",
   "execution_count": 18,
   "metadata": {
    "collapsed": true
   },
   "outputs": [
    {
     "name": "stdout",
     "output_type": "stream",
     "text": [
      "+--------------------+-------------------+\n",
      "|            features|Global_active_power|\n",
      "+--------------------+-------------------+\n",
      "|[0.418,234.84,18....|              4.216|\n",
      "|[0.436,233.63,23....|               5.36|\n",
      "|[0.498,233.29,23....|              5.374|\n",
      "+--------------------+-------------------+\n",
      "only showing top 3 rows\n",
      "\n"
     ]
    }
   ],
   "source": [
    "v_df = v_df.select(['features', 'Global_active_power'])\n",
    "v_df.show(3)"
   ]
  },
  {
   "cell_type": "code",
   "execution_count": 20,
   "metadata": {},
   "outputs": [],
   "source": [
    "splits = v_df.randomSplit([0.7, 0.3])\n",
    "train_df = splits[0]\n",
    "test_df = splits[1]"
   ]
  },
  {
   "cell_type": "code",
   "execution_count": 21,
   "metadata": {},
   "outputs": [],
   "source": [
    "from pyspark.ml.regression import LinearRegression"
   ]
  },
  {
   "cell_type": "code",
   "execution_count": 22,
   "metadata": {},
   "outputs": [],
   "source": [
    "lr = LinearRegression(featuresCol = 'features', labelCol='Global_active_power', maxIter=10, regParam=0.3, elasticNetParam=0.8)"
   ]
  },
  {
   "cell_type": "code",
   "execution_count": 23,
   "metadata": {},
   "outputs": [],
   "source": [
    "lr_model = lr.fit(train_df)"
   ]
  },
  {
   "cell_type": "code",
   "execution_count": 24,
   "metadata": {},
   "outputs": [
    {
     "name": "stdout",
     "output_type": "stream",
     "text": [
      "Coefficients: [0.0,0.0,0.1737352215546131,0.0,0.0,0.0]\n",
      "Intercept: 0.2875228948191185\n"
     ]
    }
   ],
   "source": [
    "print(\"Coefficients: \" + str(lr_model.coefficients))\n",
    "print(\"Intercept: \" + str(lr_model.intercept))"
   ]
  },
  {
   "cell_type": "code",
   "execution_count": 25,
   "metadata": {},
   "outputs": [
    {
     "name": "stdout",
     "output_type": "stream",
     "text": [
      "RMSE: 0.288304\n",
      "r2: 0.925656\n"
     ]
    }
   ],
   "source": [
    "trainingSummary = lr_model.summary\n",
    "print(\"RMSE: %f\" % trainingSummary.rootMeanSquaredError)\n",
    "print(\"r2: %f\" % trainingSummary.r2)"
   ]
  },
  {
   "cell_type": "code",
   "execution_count": 26,
   "metadata": {
    "collapsed": true
   },
   "outputs": [
    {
     "name": "stdout",
     "output_type": "stream",
     "text": [
      "+-------+-------------------+\n",
      "|summary|Global_active_power|\n",
      "+-------+-------------------+\n",
      "|  count|            1434426|\n",
      "|   mean| 1.0912569752639423|\n",
      "| stddev|  1.057373723094851|\n",
      "|    min|              0.076|\n",
      "|    max|             11.122|\n",
      "+-------+-------------------+\n",
      "\n"
     ]
    }
   ],
   "source": [
    "train_df.describe().show()"
   ]
  },
  {
   "cell_type": "code",
   "execution_count": 27,
   "metadata": {
    "collapsed": true
   },
   "outputs": [
    {
     "name": "stdout",
     "output_type": "stream",
     "text": [
      "+------------------+-------------------+--------------------+\n",
      "|        prediction|Global_active_power|            features|\n",
      "+------------------+-------------------+--------------------+\n",
      "| 0.426511072062809|              0.162|(6,[1,2],[225.69,...|\n",
      "|0.3917640277518864|              0.116|(6,[1,2],[226.14,...|\n",
      "|0.3917640277518864|              0.116|(6,[1,2],[226.2,0...|\n",
      "|0.3917640277518864|              0.116|(6,[1,2],[226.21,...|\n",
      "|0.3917640277518864|              0.116|(6,[1,2],[226.27,...|\n",
      "|0.3917640277518864|              0.116|(6,[1,2],[226.36,...|\n",
      "|0.3917640277518864|              0.116|(6,[1,2],[226.41,...|\n",
      "|0.3917640277518864|              0.116|(6,[1,2],[226.48,...|\n",
      "| 0.426511072062809|              0.154|(6,[1,2],[226.5,0...|\n",
      "|0.3917640277518864|              0.116|(6,[1,2],[226.62,...|\n",
      "|0.3917640277518864|              0.116|(6,[1,2],[226.69,...|\n",
      "|0.3917640277518864|              0.116|(6,[1,2],[226.72,...|\n",
      "|0.3917640277518864|              0.116|(6,[1,2],[226.83,...|\n",
      "|0.3917640277518864|              0.116|(6,[1,2],[226.83,...|\n",
      "|0.3917640277518864|              0.116|(6,[1,2],[226.9,0...|\n",
      "|0.3917640277518864|              0.116|(6,[1,2],[226.94,...|\n",
      "|0.3917640277518864|              0.116|(6,[1,2],[226.95,...|\n",
      "|0.3917640277518864|              0.116|(6,[1,2],[226.95,...|\n",
      "|0.3917640277518864|              0.116|(6,[1,2],[226.95,...|\n",
      "|0.3917640277518864|              0.116|(6,[1,2],[226.97,...|\n",
      "+------------------+-------------------+--------------------+\n",
      "only showing top 20 rows\n",
      "\n"
     ]
    }
   ],
   "source": [
    "lr_predictions = lr_model.transform(test_df)\n",
    "lr_predictions.select(\"prediction\",\"Global_active_power\",\"features\").show()"
   ]
  },
  {
   "cell_type": "code",
   "execution_count": 28,
   "metadata": {},
   "outputs": [],
   "source": [
    "from pyspark.ml.evaluation import RegressionEvaluator"
   ]
  },
  {
   "cell_type": "code",
   "execution_count": 29,
   "metadata": {
    "collapsed": true
   },
   "outputs": [
    {
     "name": "stdout",
     "output_type": "stream",
     "text": [
      "R Squared (R2) on test data = 0.925607\n"
     ]
    }
   ],
   "source": [
    "lr_evaluator = RegressionEvaluator(predictionCol=\"prediction\", \\\n",
    "                 labelCol=\"Global_active_power\",metricName=\"r2\")\n",
    "print(\"R Squared (R2) on test data = %g\" % lr_evaluator.evaluate(lr_predictions))"
   ]
  },
  {
   "cell_type": "code",
   "execution_count": 30,
   "metadata": {
    "collapsed": true
   },
   "outputs": [
    {
     "name": "stdout",
     "output_type": "stream",
     "text": [
      "Root Mean Squared Error (RMSE) on test data = 0.288326\n"
     ]
    }
   ],
   "source": [
    "test_result = lr_model.evaluate(test_df)\n",
    "print(\"Root Mean Squared Error (RMSE) on test data = %g\" % test_result.rootMeanSquaredError)"
   ]
  },
  {
   "cell_type": "code",
   "execution_count": 31,
   "metadata": {},
   "outputs": [
    {
     "name": "stdout",
     "output_type": "stream",
     "text": [
      "+------------------+-------------------+--------------------+\n",
      "|        prediction|Global_active_power|            features|\n",
      "+------------------+-------------------+--------------------+\n",
      "| 0.426511072062809|              0.162|(6,[1,2],[225.69,...|\n",
      "|0.3917640277518864|              0.116|(6,[1,2],[226.14,...|\n",
      "|0.3917640277518864|              0.116|(6,[1,2],[226.2,0...|\n",
      "|0.3917640277518864|              0.116|(6,[1,2],[226.21,...|\n",
      "|0.3917640277518864|              0.116|(6,[1,2],[226.27,...|\n",
      "|0.3917640277518864|              0.116|(6,[1,2],[226.36,...|\n",
      "|0.3917640277518864|              0.116|(6,[1,2],[226.41,...|\n",
      "|0.3917640277518864|              0.116|(6,[1,2],[226.48,...|\n",
      "| 0.426511072062809|              0.154|(6,[1,2],[226.5,0...|\n",
      "|0.3917640277518864|              0.116|(6,[1,2],[226.62,...|\n",
      "|0.3917640277518864|              0.116|(6,[1,2],[226.69,...|\n",
      "|0.3917640277518864|              0.116|(6,[1,2],[226.72,...|\n",
      "|0.3917640277518864|              0.116|(6,[1,2],[226.83,...|\n",
      "|0.3917640277518864|              0.116|(6,[1,2],[226.83,...|\n",
      "|0.3917640277518864|              0.116|(6,[1,2],[226.9,0...|\n",
      "|0.3917640277518864|              0.116|(6,[1,2],[226.94,...|\n",
      "|0.3917640277518864|              0.116|(6,[1,2],[226.95,...|\n",
      "|0.3917640277518864|              0.116|(6,[1,2],[226.95,...|\n",
      "|0.3917640277518864|              0.116|(6,[1,2],[226.95,...|\n",
      "|0.3917640277518864|              0.116|(6,[1,2],[226.97,...|\n",
      "+------------------+-------------------+--------------------+\n",
      "only showing top 20 rows\n",
      "\n"
     ]
    }
   ],
   "source": [
    "predictions = lr_model.transform(test_df)\n",
    "predictions.select(\"prediction\",\"Global_active_power\",\"features\").show()"
   ]
  },
  {
   "cell_type": "code",
   "execution_count": null,
   "metadata": {},
   "outputs": [],
   "source": []
  },
  {
   "cell_type": "code",
   "execution_count": null,
   "metadata": {},
   "outputs": [],
   "source": []
  },
  {
   "cell_type": "code",
   "execution_count": null,
   "metadata": {},
   "outputs": [],
   "source": []
  },
  {
   "cell_type": "code",
   "execution_count": null,
   "metadata": {},
   "outputs": [],
   "source": []
  },
  {
   "cell_type": "code",
   "execution_count": null,
   "metadata": {},
   "outputs": [],
   "source": []
  },
  {
   "cell_type": "code",
   "execution_count": null,
   "metadata": {},
   "outputs": [],
   "source": []
  }
 ],
 "metadata": {
  "kernelspec": {
   "display_name": "Python 3",
   "language": "python",
   "name": "python3"
  },
  "language_info": {
   "codemirror_mode": {
    "name": "ipython",
    "version": 3
   },
   "file_extension": ".py",
   "mimetype": "text/x-python",
   "name": "python",
   "nbconvert_exporter": "python",
   "pygments_lexer": "ipython3",
   "version": "3.7.1"
  }
 },
 "nbformat": 4,
 "nbformat_minor": 2
}
